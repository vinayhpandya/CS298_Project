{
 "cells": [
  {
   "cell_type": "code",
   "execution_count": 1,
   "id": "3fedd5c4",
   "metadata": {
    "_cell_guid": "b1076dfc-b9ad-4769-8c92-a6c4dae69d19",
    "_uuid": "8f2839f25d086af736a60e9eeb907d3b93b6e0e5",
    "execution": {
     "iopub.execute_input": "2022-05-26T21:33:31.015165Z",
     "iopub.status.busy": "2022-05-26T21:33:31.013918Z",
     "iopub.status.idle": "2022-05-26T21:33:31.022991Z",
     "shell.execute_reply": "2022-05-26T21:33:31.023503Z",
     "shell.execute_reply.started": "2022-05-26T21:25:27.866545Z"
    },
    "papermill": {
     "duration": 0.037826,
     "end_time": "2022-05-26T21:33:31.023789",
     "exception": false,
     "start_time": "2022-05-26T21:33:30.985963",
     "status": "completed"
    },
    "tags": []
   },
   "outputs": [],
   "source": [
    "# This Python 3 environment comes with many helpful analytics libraries installed\n",
    "# It is defined by the kaggle/python Docker image: https://github.com/kaggle/docker-python\n",
    "# For example, here's several helpful packages to load\n",
    "\n",
    "import numpy as np # linear algebra\n",
    "import pandas as pd # data processing, CSV file I/O (e.g. pd.read_csv)\n",
    "\n",
    "# Input data files are available in the read-only \"../input/\" directory\n",
    "# For example, running this (by clicking run or pressing Shift+Enter) will list all files under the input directory\n",
    "# You can write up to 20GB to the current directory (/kaggle/working/) that gets preserved as output when you create a version using \"Save & Run All\" \n",
    "# You can also write temporary files to /kaggle/temp/, but they won't be saved outside of the current session"
   ]
  },
  {
   "cell_type": "code",
   "execution_count": 2,
   "id": "f645da49",
   "metadata": {
    "execution": {
     "iopub.execute_input": "2022-05-26T21:33:31.074695Z",
     "iopub.status.busy": "2022-05-26T21:33:31.074016Z",
     "iopub.status.idle": "2022-05-26T21:33:32.890245Z",
     "shell.execute_reply": "2022-05-26T21:33:32.889299Z",
     "shell.execute_reply.started": "2022-05-26T21:25:27.898225Z"
    },
    "papermill": {
     "duration": 1.8427,
     "end_time": "2022-05-26T21:33:32.890390",
     "exception": false,
     "start_time": "2022-05-26T21:33:31.047690",
     "status": "completed"
    },
    "tags": []
   },
   "outputs": [],
   "source": [
    "import optuna"
   ]
  },
  {
   "cell_type": "code",
   "execution_count": 3,
   "id": "d41877bf",
   "metadata": {
    "execution": {
     "iopub.execute_input": "2022-05-26T21:33:32.941623Z",
     "iopub.status.busy": "2022-05-26T21:33:32.940978Z",
     "iopub.status.idle": "2022-05-26T21:33:32.944184Z",
     "shell.execute_reply": "2022-05-26T21:33:32.944715Z",
     "shell.execute_reply.started": "2022-05-26T21:27:16.829449Z"
    },
    "papermill": {
     "duration": 0.029897,
     "end_time": "2022-05-26T21:33:32.944873",
     "exception": false,
     "start_time": "2022-05-26T21:33:32.914976",
     "status": "completed"
    },
    "tags": []
   },
   "outputs": [],
   "source": [
    "\n",
    "from sklearn.ensemble import RandomForestClassifier\n",
    "from sklearn.model_selection import train_test_split"
   ]
  },
  {
   "cell_type": "code",
   "execution_count": 4,
   "id": "ced98ea1",
   "metadata": {
    "execution": {
     "iopub.execute_input": "2022-05-26T21:33:32.995896Z",
     "iopub.status.busy": "2022-05-26T21:33:32.995265Z",
     "iopub.status.idle": "2022-05-26T21:33:33.600544Z",
     "shell.execute_reply": "2022-05-26T21:33:33.599963Z",
     "shell.execute_reply.started": "2022-05-11T18:40:27.646284Z"
    },
    "papermill": {
     "duration": 0.632753,
     "end_time": "2022-05-26T21:33:33.600696",
     "exception": false,
     "start_time": "2022-05-26T21:33:32.967943",
     "status": "completed"
    },
    "tags": []
   },
   "outputs": [],
   "source": [
    "X=np.load(\"../input/distilbert-embeddings/albert_10_epochs_embeddings_last_4.npy\")\n",
    "Y=np.load(\"../input/distilbert-embeddings/albert_10_epochs_targets_last_4.npy\")"
   ]
  },
  {
   "cell_type": "code",
   "execution_count": 5,
   "id": "6ca328b5",
   "metadata": {
    "execution": {
     "iopub.execute_input": "2022-05-26T21:33:33.685902Z",
     "iopub.status.busy": "2022-05-26T21:33:33.685221Z",
     "iopub.status.idle": "2022-05-26T21:33:33.710419Z",
     "shell.execute_reply": "2022-05-26T21:33:33.709794Z",
     "shell.execute_reply.started": "2022-05-11T18:40:27.983352Z"
    },
    "papermill": {
     "duration": 0.085794,
     "end_time": "2022-05-26T21:33:33.710558",
     "exception": false,
     "start_time": "2022-05-26T21:33:33.624764",
     "status": "completed"
    },
    "tags": []
   },
   "outputs": [],
   "source": [
    "X_train,X_test,Y_train,Y_test=train_test_split(X,Y,random_state=42,test_size=0.2,stratify=Y)"
   ]
  },
  {
   "cell_type": "code",
   "execution_count": 6,
   "id": "335f3745",
   "metadata": {
    "execution": {
     "iopub.execute_input": "2022-05-26T21:33:33.764235Z",
     "iopub.status.busy": "2022-05-26T21:33:33.763273Z",
     "iopub.status.idle": "2022-05-26T21:33:33.766179Z",
     "shell.execute_reply": "2022-05-26T21:33:33.765668Z",
     "shell.execute_reply.started": "2022-05-11T18:19:24.634346Z"
    },
    "papermill": {
     "duration": 0.032457,
     "end_time": "2022-05-26T21:33:33.766324",
     "exception": false,
     "start_time": "2022-05-26T21:33:33.733867",
     "status": "completed"
    },
    "tags": []
   },
   "outputs": [],
   "source": [
    "from sklearn.model_selection import cross_val_score\n",
    "def objective(trial):\n",
    "    params = {\n",
    "            'n_estimators': trial.suggest_int('n_estimators', 50, 1000),\n",
    "            'max_depth': trial.suggest_int('max_depth', 4, 50)\n",
    "        }\n",
    "    clf = RandomForestClassifier(random_state=42,**params)\n",
    "    return cross_val_score(clf,X_train,Y_train,n_jobs=-1,cv=4).mean()"
   ]
  },
  {
   "cell_type": "code",
   "execution_count": 7,
   "id": "08f7eb28",
   "metadata": {
    "execution": {
     "iopub.execute_input": "2022-05-26T21:33:33.819465Z",
     "iopub.status.busy": "2022-05-26T21:33:33.818478Z",
     "iopub.status.idle": "2022-05-26T21:38:35.913155Z",
     "shell.execute_reply": "2022-05-26T21:38:35.913673Z",
     "shell.execute_reply.started": "2022-05-11T18:19:25.496693Z"
    },
    "papermill": {
     "duration": 302.12362,
     "end_time": "2022-05-26T21:38:35.913836",
     "exception": false,
     "start_time": "2022-05-26T21:33:33.790216",
     "status": "completed"
    },
    "tags": []
   },
   "outputs": [
    {
     "name": "stderr",
     "output_type": "stream",
     "text": [
      "\u001b[32m[I 2022-05-26 21:33:33,816]\u001b[0m A new study created in memory with name: Random_forest_trial\u001b[0m\n",
      "\u001b[32m[I 2022-05-26 21:34:29,867]\u001b[0m Trial 0 finished with value: 0.9715825279708721 and parameters: {'n_estimators': 944, 'max_depth': 15}. Best is trial 0 with value: 0.9715825279708721.\u001b[0m\n",
      "\u001b[32m[I 2022-05-26 21:35:11,951]\u001b[0m Trial 1 finished with value: 0.9724438544135938 and parameters: {'n_estimators': 728, 'max_depth': 30}. Best is trial 1 with value: 0.9724438544135938.\u001b[0m\n",
      "\u001b[32m[I 2022-05-26 21:36:01,722]\u001b[0m Trial 2 finished with value: 0.9717978595815526 and parameters: {'n_estimators': 868, 'max_depth': 39}. Best is trial 1 with value: 0.9724438544135938.\u001b[0m\n",
      "\u001b[32m[I 2022-05-26 21:36:07,472]\u001b[0m Trial 3 finished with value: 0.9726591860242743 and parameters: {'n_estimators': 101, 'max_depth': 10}. Best is trial 3 with value: 0.9726591860242743.\u001b[0m\n",
      "\u001b[32m[I 2022-05-26 21:36:21,427]\u001b[0m Trial 4 finished with value: 0.9692138802533872 and parameters: {'n_estimators': 305, 'max_depth': 6}. Best is trial 3 with value: 0.9726591860242743.\u001b[0m\n",
      "\u001b[32m[I 2022-05-26 21:36:41,446]\u001b[0m Trial 5 finished with value: 0.9722285228029134 and parameters: {'n_estimators': 385, 'max_depth': 8}. Best is trial 3 with value: 0.9726591860242743.\u001b[0m\n",
      "\u001b[32m[I 2022-05-26 21:37:08,422]\u001b[0m Trial 6 finished with value: 0.9717980448927493 and parameters: {'n_estimators': 466, 'max_depth': 46}. Best is trial 3 with value: 0.9726591860242743.\u001b[0m\n",
      "\u001b[32m[I 2022-05-26 21:37:38,336]\u001b[0m Trial 7 finished with value: 0.9726590007130774 and parameters: {'n_estimators': 525, 'max_depth': 10}. Best is trial 3 with value: 0.9726591860242743.\u001b[0m\n",
      "\u001b[32m[I 2022-05-26 21:37:49,178]\u001b[0m Trial 8 finished with value: 0.9726591860242743 and parameters: {'n_estimators': 181, 'max_depth': 36}. Best is trial 3 with value: 0.9726591860242743.\u001b[0m\n",
      "\u001b[32m[I 2022-05-26 21:38:35,880]\u001b[0m Trial 9 finished with value: 0.9726590007130775 and parameters: {'n_estimators': 821, 'max_depth': 11}. Best is trial 3 with value: 0.9726591860242743.\u001b[0m\n"
     ]
    }
   ],
   "source": [
    "study=optuna.create_study(direction='maximize',study_name=\"Random_forest_trial\")\n",
    "study.optimize(objective,n_trials=10)"
   ]
  },
  {
   "cell_type": "code",
   "execution_count": 8,
   "id": "c49ae982",
   "metadata": {
    "execution": {
     "iopub.execute_input": "2022-05-26T21:38:35.971836Z",
     "iopub.status.busy": "2022-05-26T21:38:35.970979Z",
     "iopub.status.idle": "2022-05-26T21:38:35.976779Z",
     "shell.execute_reply": "2022-05-26T21:38:35.977503Z",
     "shell.execute_reply.started": "2022-05-11T18:26:39.831532Z"
    },
    "papermill": {
     "duration": 0.036723,
     "end_time": "2022-05-26T21:38:35.977716",
     "exception": false,
     "start_time": "2022-05-26T21:38:35.940993",
     "status": "completed"
    },
    "tags": []
   },
   "outputs": [
    {
     "name": "stdout",
     "output_type": "stream",
     "text": [
      "\t\tn_estimators: 101\n",
      "\t\tmax_depth: 10\n"
     ]
    }
   ],
   "source": [
    "trial=study.best_trial\n",
    "for key, value in trial.params.items():\n",
    "    print('\\t\\t{}: {}'.format(key, value))"
   ]
  },
  {
   "cell_type": "code",
   "execution_count": 9,
   "id": "29ee11b6",
   "metadata": {
    "execution": {
     "iopub.execute_input": "2022-05-26T21:38:36.038815Z",
     "iopub.status.busy": "2022-05-26T21:38:36.038158Z",
     "iopub.status.idle": "2022-05-26T21:38:41.439224Z",
     "shell.execute_reply": "2022-05-26T21:38:41.439988Z",
     "shell.execute_reply.started": "2022-05-07T23:40:08.530641Z"
    },
    "papermill": {
     "duration": 5.433174,
     "end_time": "2022-05-26T21:38:41.440197",
     "exception": false,
     "start_time": "2022-05-26T21:38:36.007023",
     "status": "completed"
    },
    "tags": []
   },
   "outputs": [
    {
     "name": "stderr",
     "output_type": "stream",
     "text": [
      "/opt/conda/lib/python3.7/site-packages/ipykernel_launcher.py:2: DataConversionWarning: A column-vector y was passed when a 1d array was expected. Please change the shape of y to (n_samples,), for example using ravel().\n",
      "  \n"
     ]
    },
    {
     "data": {
      "text/plain": [
       "RandomForestClassifier(max_depth=10, n_estimators=101, random_state=42)"
      ]
     },
     "execution_count": 9,
     "metadata": {},
     "output_type": "execute_result"
    }
   ],
   "source": [
    "clf = RandomForestClassifier(random_state=42,**trial.params)\n",
    "clf.fit(X_train,Y_train)"
   ]
  },
  {
   "cell_type": "code",
   "execution_count": 10,
   "id": "8d715092",
   "metadata": {
    "execution": {
     "iopub.execute_input": "2022-05-26T21:38:41.504916Z",
     "iopub.status.busy": "2022-05-26T21:38:41.504162Z",
     "iopub.status.idle": "2022-05-26T21:38:41.540315Z",
     "shell.execute_reply": "2022-05-26T21:38:41.539734Z",
     "shell.execute_reply.started": "2022-05-07T23:40:30.387979Z"
    },
    "papermill": {
     "duration": 0.069643,
     "end_time": "2022-05-26T21:38:41.540469",
     "exception": false,
     "start_time": "2022-05-26T21:38:41.470826",
     "status": "completed"
    },
    "tags": []
   },
   "outputs": [
    {
     "data": {
      "text/plain": [
       "0.9380378657487092"
      ]
     },
     "execution_count": 10,
     "metadata": {},
     "output_type": "execute_result"
    }
   ],
   "source": [
    "clf.score(X_test,Y_test)"
   ]
  },
  {
   "cell_type": "code",
   "execution_count": 11,
   "id": "02c28b0a",
   "metadata": {
    "execution": {
     "iopub.execute_input": "2022-05-26T21:38:41.601277Z",
     "iopub.status.busy": "2022-05-26T21:38:41.600612Z",
     "iopub.status.idle": "2022-05-26T21:38:42.427839Z",
     "shell.execute_reply": "2022-05-26T21:38:42.427280Z",
     "shell.execute_reply.started": "2022-04-24T08:08:01.363685Z"
    },
    "papermill": {
     "duration": 0.858729,
     "end_time": "2022-05-26T21:38:42.427982",
     "exception": false,
     "start_time": "2022-05-26T21:38:41.569253",
     "status": "completed"
    },
    "tags": []
   },
   "outputs": [
    {
     "data": {
      "text/plain": [
       "(array([0.5, 1.5, 2.5, 3.5, 4.5, 5.5, 6.5]),\n",
       " [Text(0.5, 0, 'BHO'),\n",
       "  Text(1.5, 0, 'CeeInject'),\n",
       "  Text(2.5, 0, 'FakeRean'),\n",
       "  Text(3.5, 0, 'OnLineGames'),\n",
       "  Text(4.5, 0, 'Renos'),\n",
       "  Text(5.5, 0, 'Vobfus'),\n",
       "  Text(6.5, 0, 'Winwebsec')])"
      ]
     },
     "execution_count": 11,
     "metadata": {},
     "output_type": "execute_result"
    },
    {
     "data": {
      "image/png": "[encoded data removed]",
      "text/plain": [
       "<Figure size 720x720 with 2 Axes>"
      ]
     },
     "metadata": {
      "needs_background": "light"
     },
     "output_type": "display_data"
    }
   ],
   "source": [
    "from sklearn.metrics import confusion_matrix\n",
    "cf=confusion_matrix(Y_test,clf.predict(X_test),normalize=\"true\")\n",
    "import matplotlib.pyplot as plt\n",
    "import seaborn as sns\n",
    "fig,ax=plt.subplots(figsize=(10,10))\n",
    "sns.heatmap(cf, annot=True,cmap=\"Blues\",linewidth=1,linecolor=\"black\",square=True,vmax=1.0)\n",
    "ax.set_xticklabels([\"BHO\",\"CeeInject\",\"FakeRean\",\"OnLineGames\",\"Renos\",\"Vobfus\",\"Winwebsec\"])\n",
    "ax.set_yticklabels([\"BHO\",\"CeeInject\",\"FakeRean\",\"OnLineGames\",\"Renos\",\"Vobfus\",\"Winwebsec\"])\n",
    "plt.xticks(rotation=45)"
   ]
  },
  {
   "cell_type": "code",
   "execution_count": 12,
   "id": "604ae361",
   "metadata": {
    "execution": {
     "iopub.execute_input": "2022-05-26T21:38:42.493284Z",
     "iopub.status.busy": "2022-05-26T21:38:42.492626Z",
     "iopub.status.idle": "2022-05-26T21:38:42.496049Z",
     "shell.execute_reply": "2022-05-26T21:38:42.496651Z",
     "shell.execute_reply.started": "2022-05-11T18:40:33.46396Z"
    },
    "papermill": {
     "duration": 0.037711,
     "end_time": "2022-05-26T21:38:42.496811",
     "exception": false,
     "start_time": "2022-05-26T21:38:42.459100",
     "status": "completed"
    },
    "tags": []
   },
   "outputs": [],
   "source": [
    "from sklearn.svm import SVC"
   ]
  },
  {
   "cell_type": "code",
   "execution_count": 13,
   "id": "d8fe4f8c",
   "metadata": {
    "execution": {
     "iopub.execute_input": "2022-05-26T21:38:42.563558Z",
     "iopub.status.busy": "2022-05-26T21:38:42.562877Z",
     "iopub.status.idle": "2022-05-26T21:38:42.564714Z",
     "shell.execute_reply": "2022-05-26T21:38:42.565265Z",
     "shell.execute_reply.started": "2022-05-11T18:40:33.776186Z"
    },
    "papermill": {
     "duration": 0.037882,
     "end_time": "2022-05-26T21:38:42.565437",
     "exception": false,
     "start_time": "2022-05-26T21:38:42.527555",
     "status": "completed"
    },
    "tags": []
   },
   "outputs": [],
   "source": [
    "Y_train=Y_train.reshape(Y_train.shape[0])"
   ]
  },
  {
   "cell_type": "code",
   "execution_count": 14,
   "id": "0a439bb8",
   "metadata": {
    "execution": {
     "iopub.execute_input": "2022-05-26T21:38:42.630884Z",
     "iopub.status.busy": "2022-05-26T21:38:42.630238Z",
     "iopub.status.idle": "2022-05-26T21:38:42.634772Z",
     "shell.execute_reply": "2022-05-26T21:38:42.635242Z",
     "shell.execute_reply.started": "2022-05-11T18:40:34.147057Z"
    },
    "papermill": {
     "duration": 0.038705,
     "end_time": "2022-05-26T21:38:42.635420",
     "exception": false,
     "start_time": "2022-05-26T21:38:42.596715",
     "status": "completed"
    },
    "tags": []
   },
   "outputs": [],
   "source": [
    "from sklearn.model_selection import cross_val_score\n",
    "def objective(trial):\n",
    "    svc_c = trial.suggest_loguniform('svc_c', 1e-10, 1e10)\n",
    "    classifier_obj = SVC(C=svc_c,kernel=\"rbf\",gamma=\"scale\")\n",
    "    return cross_val_score(classifier_obj,X_train,Y_train,n_jobs=-1,cv=4).mean()"
   ]
  },
  {
   "cell_type": "code",
   "execution_count": 15,
   "id": "656d2080",
   "metadata": {
    "execution": {
     "iopub.execute_input": "2022-05-26T21:38:42.700181Z",
     "iopub.status.busy": "2022-05-26T21:38:42.699543Z",
     "iopub.status.idle": "2022-05-26T21:41:01.127001Z",
     "shell.execute_reply": "2022-05-26T21:41:01.125936Z",
     "shell.execute_reply.started": "2022-05-11T18:40:35.452606Z"
    },
    "papermill": {
     "duration": 138.460841,
     "end_time": "2022-05-26T21:41:01.127294",
     "exception": false,
     "start_time": "2022-05-26T21:38:42.666453",
     "status": "completed"
    },
    "tags": []
   },
   "outputs": [
    {
     "name": "stderr",
     "output_type": "stream",
     "text": [
      "\u001b[32m[I 2022-05-26 21:38:42,700]\u001b[0m A new study created in memory with name: no-name-c4b68786-811f-4b5d-901b-a00efed7748d\u001b[0m\n",
      "\u001b[32m[I 2022-05-26 21:38:43,966]\u001b[0m Trial 0 finished with value: 0.969214065564584 and parameters: {'svc_c': 193.42197851925243}. Best is trial 0 with value: 0.969214065564584.\u001b[0m\n",
      "\u001b[32m[I 2022-05-26 21:39:04,785]\u001b[0m Trial 1 finished with value: 0.1868676255409234 and parameters: {'svc_c': 9.274820680486518e-09}. Best is trial 0 with value: 0.969214065564584.\u001b[0m\n",
      "\u001b[32m[I 2022-05-26 21:39:25,257]\u001b[0m Trial 2 finished with value: 0.8667382709131097 and parameters: {'svc_c': 0.0018621374894814003}. Best is trial 0 with value: 0.969214065564584.\u001b[0m\n",
      "\u001b[32m[I 2022-05-26 21:39:45,748]\u001b[0m Trial 3 finished with value: 0.1868676255409234 and parameters: {'svc_c': 1.0997716609513507e-09}. Best is trial 0 with value: 0.969214065564584.\u001b[0m\n",
      "\u001b[32m[I 2022-05-26 21:39:47,067]\u001b[0m Trial 4 finished with value: 0.9659846473379675 and parameters: {'svc_c': 189633.75855673695}. Best is trial 0 with value: 0.969214065564584.\u001b[0m\n",
      "\u001b[32m[I 2022-05-26 21:40:08,161]\u001b[0m Trial 5 finished with value: 0.1868676255409234 and parameters: {'svc_c': 1.3179142344577654e-10}. Best is trial 0 with value: 0.969214065564584.\u001b[0m\n",
      "\u001b[32m[I 2022-05-26 21:40:09,484]\u001b[0m Trial 6 finished with value: 0.9659846473379675 and parameters: {'svc_c': 1184652.8776855792}. Best is trial 0 with value: 0.969214065564584.\u001b[0m\n",
      "\u001b[32m[I 2022-05-26 21:40:21,072]\u001b[0m Trial 7 finished with value: 0.9237894731380301 and parameters: {'svc_c': 0.007616445933943665}. Best is trial 0 with value: 0.969214065564584.\u001b[0m\n",
      "\u001b[32m[I 2022-05-26 21:40:40,966]\u001b[0m Trial 8 finished with value: 0.1868676255409234 and parameters: {'svc_c': 1.3682901840484665e-07}. Best is trial 0 with value: 0.969214065564584.\u001b[0m\n",
      "\u001b[32m[I 2022-05-26 21:41:01,120]\u001b[0m Trial 9 finished with value: 0.1868676255409234 and parameters: {'svc_c': 1.6780896015036444e-05}. Best is trial 0 with value: 0.969214065564584.\u001b[0m\n"
     ]
    }
   ],
   "source": [
    "study=optuna.create_study(direction='maximize')\n",
    "study.optimize(objective,n_trials=10)"
   ]
  },
  {
   "cell_type": "code",
   "execution_count": 16,
   "id": "3f12efe1",
   "metadata": {
    "execution": {
     "iopub.execute_input": "2022-05-26T21:41:01.205075Z",
     "iopub.status.busy": "2022-05-26T21:41:01.204393Z",
     "iopub.status.idle": "2022-05-26T21:41:01.812826Z",
     "shell.execute_reply": "2022-05-26T21:41:01.812150Z",
     "shell.execute_reply.started": "2022-05-11T18:41:58.003048Z"
    },
    "papermill": {
     "duration": 0.64868,
     "end_time": "2022-05-26T21:41:01.812963",
     "exception": false,
     "start_time": "2022-05-26T21:41:01.164283",
     "status": "completed"
    },
    "tags": []
   },
   "outputs": [
    {
     "data": {
      "text/plain": [
       "SVC(C=193.42197851925243)"
      ]
     },
     "execution_count": 16,
     "metadata": {},
     "output_type": "execute_result"
    }
   ],
   "source": [
    "trial=study.best_trial\n",
    "clf=SVC(C=trial.params[\"svc_c\"],kernel=\"rbf\",gamma=\"scale\")\n",
    "#clf=SVC(C=3415106405.538255,kernel=\"rbf\",gamma=\"scale\")\n",
    "clf.fit(X_train,Y_train)"
   ]
  },
  {
   "cell_type": "code",
   "execution_count": 17,
   "id": "4b8b59ab",
   "metadata": {
    "execution": {
     "iopub.execute_input": "2022-05-26T21:41:01.893176Z",
     "iopub.status.busy": "2022-05-26T21:41:01.891853Z",
     "iopub.status.idle": "2022-05-26T21:41:02.633181Z",
     "shell.execute_reply": "2022-05-26T21:41:02.632647Z",
     "shell.execute_reply.started": "2022-04-29T15:46:19.63841Z"
    },
    "papermill": {
     "duration": 0.784056,
     "end_time": "2022-05-26T21:41:02.633323",
     "exception": false,
     "start_time": "2022-05-26T21:41:01.849267",
     "status": "completed"
    },
    "tags": []
   },
   "outputs": [
    {
     "data": {
      "text/plain": [
       "(array([0.5, 1.5, 2.5, 3.5, 4.5, 5.5, 6.5]),\n",
       " [Text(0.5, 0, 'BHO'),\n",
       "  Text(1.5, 0, 'CeeInject'),\n",
       "  Text(2.5, 0, 'FakeRean'),\n",
       "  Text(3.5, 0, 'OnLineGames'),\n",
       "  Text(4.5, 0, 'Renos'),\n",
       "  Text(5.5, 0, 'Vobfus'),\n",
       "  Text(6.5, 0, 'Winwebsec')])"
      ]
     },
     "execution_count": 17,
     "metadata": {},
     "output_type": "execute_result"
    },
    {
     "data": {
      "image/png": "[encoded data removed]",
      "text/plain": [
       "<Figure size 720x720 with 2 Axes>"
      ]
     },
     "metadata": {
      "needs_background": "light"
     },
     "output_type": "display_data"
    }
   ],
   "source": [
    "from sklearn.metrics import confusion_matrix\n",
    "cf=confusion_matrix(Y_test,clf.predict(X_test),normalize=\"true\")\n",
    "import matplotlib.pyplot as plt\n",
    "import seaborn as sns\n",
    "fig,ax=plt.subplots(figsize=(10,10))\n",
    "sns.heatmap(cf, annot=True,cmap=\"Blues\",linewidth=1,linecolor=\"black\",square=True,vmax=1.0)\n",
    "ax.set_xticklabels([\"BHO\",\"CeeInject\",\"FakeRean\",\"OnLineGames\",\"Renos\",\"Vobfus\",\"Winwebsec\"])\n",
    "ax.set_yticklabels([\"BHO\",\"CeeInject\",\"FakeRean\",\"OnLineGames\",\"Renos\",\"Vobfus\",\"Winwebsec\"])\n",
    "plt.xticks(rotation=45)"
   ]
  },
  {
   "cell_type": "code",
   "execution_count": 18,
   "id": "fec8d3f6",
   "metadata": {
    "execution": {
     "iopub.execute_input": "2022-05-26T21:41:02.710749Z",
     "iopub.status.busy": "2022-05-26T21:41:02.710097Z",
     "iopub.status.idle": "2022-05-26T21:41:02.951765Z",
     "shell.execute_reply": "2022-05-26T21:41:02.952366Z",
     "shell.execute_reply.started": "2022-05-07T23:43:58.795984Z"
    },
    "papermill": {
     "duration": 0.281979,
     "end_time": "2022-05-26T21:41:02.952542",
     "exception": false,
     "start_time": "2022-05-26T21:41:02.670563",
     "status": "completed"
    },
    "tags": []
   },
   "outputs": [
    {
     "data": {
      "text/plain": [
       "0.9345955249569707"
      ]
     },
     "execution_count": 18,
     "metadata": {},
     "output_type": "execute_result"
    }
   ],
   "source": [
    "clf.score(X_test,Y_test)"
   ]
  },
  {
   "cell_type": "code",
   "execution_count": 19,
   "id": "10613b8e",
   "metadata": {
    "execution": {
     "iopub.execute_input": "2022-05-26T21:41:03.034345Z",
     "iopub.status.busy": "2022-05-26T21:41:03.033706Z",
     "iopub.status.idle": "2022-05-26T21:41:03.036796Z",
     "shell.execute_reply": "2022-05-26T21:41:03.036294Z",
     "shell.execute_reply.started": "2022-05-07T23:44:16.822539Z"
    },
    "papermill": {
     "duration": 0.046236,
     "end_time": "2022-05-26T21:41:03.036931",
     "exception": false,
     "start_time": "2022-05-26T21:41:02.990695",
     "status": "completed"
    },
    "tags": []
   },
   "outputs": [],
   "source": [
    "from sklearn.neighbors import KNeighborsClassifier"
   ]
  },
  {
   "cell_type": "code",
   "execution_count": 20,
   "id": "7a97bd77",
   "metadata": {
    "execution": {
     "iopub.execute_input": "2022-05-26T21:41:03.115816Z",
     "iopub.status.busy": "2022-05-26T21:41:03.115222Z",
     "iopub.status.idle": "2022-05-26T21:41:03.124915Z",
     "shell.execute_reply": "2022-05-26T21:41:03.124413Z",
     "shell.execute_reply.started": "2022-05-07T23:44:17.161693Z"
    },
    "papermill": {
     "duration": 0.05074,
     "end_time": "2022-05-26T21:41:03.125053",
     "exception": false,
     "start_time": "2022-05-26T21:41:03.074313",
     "status": "completed"
    },
    "tags": []
   },
   "outputs": [
    {
     "data": {
      "text/plain": [
       "KNeighborsClassifier(n_neighbors=25)"
      ]
     },
     "execution_count": 20,
     "metadata": {},
     "output_type": "execute_result"
    }
   ],
   "source": [
    "clf=KNeighborsClassifier(n_neighbors=25)\n",
    "clf.fit(X_train,Y_train)"
   ]
  },
  {
   "cell_type": "code",
   "execution_count": 21,
   "id": "2ab05f12",
   "metadata": {
    "execution": {
     "iopub.execute_input": "2022-05-26T21:41:03.208102Z",
     "iopub.status.busy": "2022-05-26T21:41:03.207436Z",
     "iopub.status.idle": "2022-05-26T21:41:04.035937Z",
     "shell.execute_reply": "2022-05-26T21:41:04.035284Z",
     "shell.execute_reply.started": "2022-04-29T15:58:13.798514Z"
    },
    "papermill": {
     "duration": 0.873054,
     "end_time": "2022-05-26T21:41:04.036074",
     "exception": false,
     "start_time": "2022-05-26T21:41:03.163020",
     "status": "completed"
    },
    "tags": []
   },
   "outputs": [
    {
     "data": {
      "text/plain": [
       "(array([0.5, 1.5, 2.5, 3.5, 4.5, 5.5, 6.5]),\n",
       " [Text(0.5, 0, 'BHO'),\n",
       "  Text(1.5, 0, 'CeeInject'),\n",
       "  Text(2.5, 0, 'FakeRean'),\n",
       "  Text(3.5, 0, 'OnLineGames'),\n",
       "  Text(4.5, 0, 'Renos'),\n",
       "  Text(5.5, 0, 'Vobfus'),\n",
       "  Text(6.5, 0, 'Winwebsec')])"
      ]
     },
     "execution_count": 21,
     "metadata": {},
     "output_type": "execute_result"
    },
    {
     "data": {
      "image/png": "[encoded data removed]",
      "text/plain": [
       "<Figure size 720x720 with 2 Axes>"
      ]
     },
     "metadata": {
      "needs_background": "light"
     },
     "output_type": "display_data"
    }
   ],
   "source": [
    "cf=confusion_matrix(Y_test,clf.predict(X_test),normalize=\"true\")\n",
    "fig,ax=plt.subplots(figsize=(10,10))\n",
    "sns.heatmap(cf, annot=True,cmap=\"Blues\",linewidth=1,linecolor=\"black\",square=True,vmax=1.0)\n",
    "ax.set_xticklabels([\"BHO\",\"CeeInject\",\"FakeRean\",\"OnLineGames\",\"Renos\",\"Vobfus\",\"Winwebsec\"])\n",
    "ax.set_yticklabels([\"BHO\",\"CeeInject\",\"FakeRean\",\"OnLineGames\",\"Renos\",\"Vobfus\",\"Winwebsec\"])\n",
    "plt.xticks(rotation=45)"
   ]
  },
  {
   "cell_type": "code",
   "execution_count": 22,
   "id": "8b45deb1",
   "metadata": {
    "execution": {
     "iopub.execute_input": "2022-05-26T21:41:04.122104Z",
     "iopub.status.busy": "2022-05-26T21:41:04.121458Z",
     "iopub.status.idle": "2022-05-26T21:41:04.461087Z",
     "shell.execute_reply": "2022-05-26T21:41:04.460483Z",
     "shell.execute_reply.started": "2022-05-07T23:44:19.547498Z"
    },
    "papermill": {
     "duration": 0.385241,
     "end_time": "2022-05-26T21:41:04.461244",
     "exception": false,
     "start_time": "2022-05-26T21:41:04.076003",
     "status": "completed"
    },
    "tags": []
   },
   "outputs": [
    {
     "data": {
      "text/plain": [
       "0.9337349397590361"
      ]
     },
     "execution_count": 22,
     "metadata": {},
     "output_type": "execute_result"
    }
   ],
   "source": [
    "clf.score(X_test,Y_test)"
   ]
  },
  {
   "cell_type": "code",
   "execution_count": null,
   "id": "e0276436",
   "metadata": {
    "papermill": {
     "duration": 0.044477,
     "end_time": "2022-05-26T21:41:04.552513",
     "exception": false,
     "start_time": "2022-05-26T21:41:04.508036",
     "status": "completed"
    },
    "tags": []
   },
   "outputs": [],
   "source": []
  }
 ],
 "metadata": {
  "kernelspec": {
   "display_name": "Python 3",
   "language": "python",
   "name": "python3"
  },
  "language_info": {
   "codemirror_mode": {
    "name": "ipython",
    "version": 3
   },
   "file_extension": ".py",
   "mimetype": "text/x-python",
   "name": "python",
   "nbconvert_exporter": "python",
   "pygments_lexer": "ipython3",
   "version": "3.7.12"
  },
  "papermill": {
   "default_parameters": {},
   "duration": 464.331979,
   "end_time": "2022-05-26T21:41:05.505963",
   "environment_variables": {},
   "exception": null,
   "input_path": "__notebook__.ipynb",
   "output_path": "__notebook__.ipynb",
   "parameters": {},
   "start_time": "2022-05-26T21:33:21.173984",
   "version": "2.3.3"
  }
 },
 "nbformat": 4,
 "nbformat_minor": 5
}
