{
 "cells": [
  {
   "cell_type": "code",
   "execution_count": 1,
   "id": "ca2d5856",
   "metadata": {
    "_cell_guid": "b1076dfc-b9ad-4769-8c92-a6c4dae69d19",
    "_uuid": "8f2839f25d086af736a60e9eeb907d3b93b6e0e5",
    "execution": {
     "iopub.execute_input": "2022-05-26T22:06:46.621819Z",
     "iopub.status.busy": "2022-05-26T22:06:46.621098Z",
     "iopub.status.idle": "2022-05-26T22:06:46.624154Z",
     "shell.execute_reply": "2022-05-26T22:06:46.623528Z",
     "shell.execute_reply.started": "2022-05-26T21:31:54.67707Z"
    },
    "papermill": {
     "duration": 0.035931,
     "end_time": "2022-05-26T22:06:46.624300",
     "exception": false,
     "start_time": "2022-05-26T22:06:46.588369",
     "status": "completed"
    },
    "tags": []
   },
   "outputs": [],
   "source": [
    "# This Python 3 environment comes with many helpful analytics libraries installed\n",
    "# It is defined by the kaggle/python Docker image: https://github.com/kaggle/docker-python\n",
    "# For example, here's several helpful packages to load\n",
    "\n",
    "import numpy as np # linear algebra\n",
    "import pandas as pd # data processing, CSV file I/O (e.g. pd.read_csv)\n",
    "\n",
    "# Input data files are available in the read-only \"../input/\" directory\n",
    "# For example, running this (by clicking run or pressing Shift+Enter) will list all files under the input directory\n",
    "\n",
    "# You can write up to 20GB to the current directory (/kaggle/working/) that gets preserved as output when you create a version using \"Save & Run All\" \n",
    "# You can also write temporary files to /kaggle/temp/, but they won't be saved outside of the current session"
   ]
  },
  {
   "cell_type": "code",
   "execution_count": 2,
   "id": "58a91ced",
   "metadata": {
    "execution": {
     "iopub.execute_input": "2022-05-26T22:06:46.674065Z",
     "iopub.status.busy": "2022-05-26T22:06:46.673340Z",
     "iopub.status.idle": "2022-05-26T22:06:47.286580Z",
     "shell.execute_reply": "2022-05-26T22:06:47.287066Z",
     "shell.execute_reply.started": "2022-05-26T21:31:54.705355Z"
    },
    "papermill": {
     "duration": 0.640689,
     "end_time": "2022-05-26T22:06:47.287246",
     "exception": false,
     "start_time": "2022-05-26T22:06:46.646557",
     "status": "completed"
    },
    "tags": []
   },
   "outputs": [],
   "source": [
    "X=np.load(\"../input/pooled-output-last-4-10-epochs/bert_10_epochs_embeddings_summed_last_4_output.npy\")\n",
    "Y=np.load(\"../input/pooled-output-last-4-10-epochs/targets.npy\")"
   ]
  },
  {
   "cell_type": "code",
   "execution_count": 3,
   "id": "4997ef22",
   "metadata": {
    "execution": {
     "iopub.execute_input": "2022-05-26T22:06:47.334357Z",
     "iopub.status.busy": "2022-05-26T22:06:47.333781Z",
     "iopub.status.idle": "2022-05-26T22:06:47.342700Z",
     "shell.execute_reply": "2022-05-26T22:06:47.343178Z",
     "shell.execute_reply.started": "2022-05-26T21:31:55.110141Z"
    },
    "papermill": {
     "duration": 0.034032,
     "end_time": "2022-05-26T22:06:47.343345",
     "exception": false,
     "start_time": "2022-05-26T22:06:47.309313",
     "status": "completed"
    },
    "tags": []
   },
   "outputs": [],
   "source": [
    "import pickle\n",
    "with open(\"../input/10-epochs-bert/targets_final.pkl\",\"rb\") as f:\n",
    "    Y=pickle.load(f)"
   ]
  },
  {
   "cell_type": "code",
   "execution_count": 4,
   "id": "cc9f9416",
   "metadata": {
    "execution": {
     "iopub.execute_input": "2022-05-26T22:06:47.389824Z",
     "iopub.status.busy": "2022-05-26T22:06:47.389167Z",
     "iopub.status.idle": "2022-05-26T22:06:48.751033Z",
     "shell.execute_reply": "2022-05-26T22:06:48.750114Z",
     "shell.execute_reply.started": "2022-05-11T17:46:51.490578Z"
    },
    "papermill": {
     "duration": 1.386181,
     "end_time": "2022-05-26T22:06:48.751203",
     "exception": false,
     "start_time": "2022-05-26T22:06:47.365022",
     "status": "completed"
    },
    "tags": []
   },
   "outputs": [],
   "source": [
    "from sklearn.ensemble import RandomForestClassifier\n",
    "from sklearn.model_selection import train_test_split"
   ]
  },
  {
   "cell_type": "code",
   "execution_count": 5,
   "id": "c48a8cc3",
   "metadata": {
    "execution": {
     "iopub.execute_input": "2022-05-26T22:06:48.827054Z",
     "iopub.status.busy": "2022-05-26T22:06:48.826195Z",
     "iopub.status.idle": "2022-05-26T22:06:48.843708Z",
     "shell.execute_reply": "2022-05-26T22:06:48.843109Z",
     "shell.execute_reply.started": "2022-05-11T17:46:53.46962Z"
    },
    "papermill": {
     "duration": 0.05721,
     "end_time": "2022-05-26T22:06:48.843846",
     "exception": false,
     "start_time": "2022-05-26T22:06:48.786636",
     "status": "completed"
    },
    "tags": []
   },
   "outputs": [],
   "source": [
    "X_train,X_test,Y_train,Y_test=train_test_split(X,Y,random_state=42,test_size=0.2,stratify=Y)"
   ]
  },
  {
   "cell_type": "code",
   "execution_count": 6,
   "id": "b81500b6",
   "metadata": {
    "execution": {
     "iopub.execute_input": "2022-05-26T22:06:48.891970Z",
     "iopub.status.busy": "2022-05-26T22:06:48.891081Z",
     "iopub.status.idle": "2022-05-26T22:06:49.501426Z",
     "shell.execute_reply": "2022-05-26T22:06:49.500933Z",
     "shell.execute_reply.started": "2022-05-11T17:46:54.426065Z"
    },
    "papermill": {
     "duration": 0.635404,
     "end_time": "2022-05-26T22:06:49.501576",
     "exception": false,
     "start_time": "2022-05-26T22:06:48.866172",
     "status": "completed"
    },
    "tags": []
   },
   "outputs": [],
   "source": [
    "import optuna"
   ]
  },
  {
   "cell_type": "code",
   "execution_count": 7,
   "id": "7edd2bbc",
   "metadata": {
    "execution": {
     "iopub.execute_input": "2022-05-26T22:06:49.551803Z",
     "iopub.status.busy": "2022-05-26T22:06:49.551181Z",
     "iopub.status.idle": "2022-05-26T22:06:49.553284Z",
     "shell.execute_reply": "2022-05-26T22:06:49.553689Z",
     "shell.execute_reply.started": "2022-05-11T17:46:55.536609Z"
    },
    "papermill": {
     "duration": 0.030523,
     "end_time": "2022-05-26T22:06:49.553827",
     "exception": false,
     "start_time": "2022-05-26T22:06:49.523304",
     "status": "completed"
    },
    "tags": []
   },
   "outputs": [],
   "source": [
    "from sklearn.model_selection import cross_val_score\n",
    "def objective(trial):\n",
    "    params = {\n",
    "            'n_estimators': trial.suggest_int('n_estimators', 50, 1000),\n",
    "            'max_depth': trial.suggest_int('max_depth', 4, 50)\n",
    "        }\n",
    "    clf = RandomForestClassifier(random_state=42,**params)\n",
    "    return cross_val_score(clf,X_train,Y_train,n_jobs=-1,cv=4).mean()"
   ]
  },
  {
   "cell_type": "code",
   "execution_count": 8,
   "id": "e2e0d32a",
   "metadata": {
    "execution": {
     "iopub.execute_input": "2022-05-26T22:06:49.604700Z",
     "iopub.status.busy": "2022-05-26T22:06:49.603929Z",
     "iopub.status.idle": "2022-05-26T22:11:09.121960Z",
     "shell.execute_reply": "2022-05-26T22:11:09.121299Z",
     "shell.execute_reply.started": "2022-05-11T17:46:56.889865Z"
    },
    "papermill": {
     "duration": 259.543166,
     "end_time": "2022-05-26T22:11:09.122112",
     "exception": false,
     "start_time": "2022-05-26T22:06:49.578946",
     "status": "completed"
    },
    "tags": []
   },
   "outputs": [
    {
     "name": "stderr",
     "output_type": "stream",
     "text": [
      "\u001b[32m[I 2022-05-26 22:06:49,604]\u001b[0m A new study created in memory with name: Random_forest_trial\u001b[0m\n",
      "\u001b[32m[I 2022-05-26 22:06:58,007]\u001b[0m Trial 0 finished with value: 0.9778256621910306 and parameters: {'n_estimators': 145, 'max_depth': 34}. Best is trial 0 with value: 0.9778256621910306.\u001b[0m\n",
      "\u001b[32m[I 2022-05-26 22:07:35,448]\u001b[0m Trial 1 finished with value: 0.9782565107235883 and parameters: {'n_estimators': 802, 'max_depth': 20}. Best is trial 1 with value: 0.9782565107235883.\u001b[0m\n",
      "\u001b[32m[I 2022-05-26 22:08:21,858]\u001b[0m Trial 2 finished with value: 0.9782565107235883 and parameters: {'n_estimators': 937, 'max_depth': 32}. Best is trial 1 with value: 0.9782565107235883.\u001b[0m\n",
      "\u001b[32m[I 2022-05-26 22:08:27,450]\u001b[0m Trial 3 finished with value: 0.9769645210595057 and parameters: {'n_estimators': 112, 'max_depth': 42}. Best is trial 1 with value: 0.9782565107235883.\u001b[0m\n",
      "\u001b[32m[I 2022-05-26 22:08:38,018]\u001b[0m Trial 4 finished with value: 0.9780409938017111 and parameters: {'n_estimators': 208, 'max_depth': 45}. Best is trial 1 with value: 0.9782565107235883.\u001b[0m\n",
      "\u001b[32m[I 2022-05-26 22:09:15,959]\u001b[0m Trial 5 finished with value: 0.9782563254123915 and parameters: {'n_estimators': 769, 'max_depth': 30}. Best is trial 1 with value: 0.9782565107235883.\u001b[0m\n",
      "\u001b[32m[I 2022-05-26 22:09:49,443]\u001b[0m Trial 6 finished with value: 0.9780413644241047 and parameters: {'n_estimators': 683, 'max_depth': 32}. Best is trial 1 with value: 0.9782565107235883.\u001b[0m\n",
      "\u001b[32m[I 2022-05-26 22:10:15,830]\u001b[0m Trial 7 finished with value: 0.9784716570230719 and parameters: {'n_estimators': 515, 'max_depth': 23}. Best is trial 7 with value: 0.9784716570230719.\u001b[0m\n",
      "\u001b[32m[I 2022-05-26 22:10:56,726]\u001b[0m Trial 8 finished with value: 0.9782565107235883 and parameters: {'n_estimators': 801, 'max_depth': 38}. Best is trial 7 with value: 0.9784716570230719.\u001b[0m\n",
      "\u001b[32m[I 2022-05-26 22:11:09,114]\u001b[0m Trial 9 finished with value: 0.9780411791129079 and parameters: {'n_estimators': 248, 'max_depth': 40}. Best is trial 7 with value: 0.9784716570230719.\u001b[0m\n"
     ]
    }
   ],
   "source": [
    "study=optuna.create_study(direction='maximize',study_name=\"Random_forest_trial\")\n",
    "study.optimize(objective,n_trials=10)"
   ]
  },
  {
   "cell_type": "code",
   "execution_count": 9,
   "id": "04d78385",
   "metadata": {
    "execution": {
     "iopub.execute_input": "2022-05-26T22:11:09.205253Z",
     "iopub.status.busy": "2022-05-26T22:11:09.204527Z",
     "iopub.status.idle": "2022-05-26T22:11:09.210867Z",
     "shell.execute_reply": "2022-05-26T22:11:09.211578Z",
     "shell.execute_reply.started": "2022-05-11T17:52:49.311891Z"
    },
    "papermill": {
     "duration": 0.05013,
     "end_time": "2022-05-26T22:11:09.211794",
     "exception": false,
     "start_time": "2022-05-26T22:11:09.161664",
     "status": "completed"
    },
    "tags": []
   },
   "outputs": [
    {
     "name": "stdout",
     "output_type": "stream",
     "text": [
      "\t\tn_estimators: 515\n",
      "\t\tmax_depth: 23\n"
     ]
    }
   ],
   "source": [
    "trial=study.best_trial\n",
    "for key, value in trial.params.items():\n",
    "    print('\\t\\t{}: {}'.format(key, value))"
   ]
  },
  {
   "cell_type": "code",
   "execution_count": 10,
   "id": "6b34f58d",
   "metadata": {
    "execution": {
     "iopub.execute_input": "2022-05-26T22:11:09.295603Z",
     "iopub.status.busy": "2022-05-26T22:11:09.294748Z",
     "iopub.status.idle": "2022-05-26T22:11:09.299055Z",
     "shell.execute_reply": "2022-05-26T22:11:09.299738Z",
     "shell.execute_reply.started": "2022-05-07T22:30:42.504436Z"
    },
    "papermill": {
     "duration": 0.048055,
     "end_time": "2022-05-26T22:11:09.299944",
     "exception": false,
     "start_time": "2022-05-26T22:11:09.251889",
     "status": "completed"
    },
    "tags": []
   },
   "outputs": [],
   "source": [
    "clf = RandomForestClassifier(random_state=42,**trial.params)"
   ]
  },
  {
   "cell_type": "code",
   "execution_count": 11,
   "id": "bdb04781",
   "metadata": {
    "execution": {
     "iopub.execute_input": "2022-05-26T22:11:09.384705Z",
     "iopub.status.busy": "2022-05-26T22:11:09.383163Z",
     "iopub.status.idle": "2022-05-26T22:11:34.995605Z",
     "shell.execute_reply": "2022-05-26T22:11:34.996205Z",
     "shell.execute_reply.started": "2022-05-07T22:30:50.368755Z"
    },
    "papermill": {
     "duration": 25.656369,
     "end_time": "2022-05-26T22:11:34.996391",
     "exception": false,
     "start_time": "2022-05-26T22:11:09.340022",
     "status": "completed"
    },
    "tags": []
   },
   "outputs": [
    {
     "data": {
      "text/plain": [
       "RandomForestClassifier(max_depth=23, n_estimators=515, random_state=42)"
      ]
     },
     "execution_count": 11,
     "metadata": {},
     "output_type": "execute_result"
    }
   ],
   "source": [
    "clf.fit(X_train,Y_train)"
   ]
  },
  {
   "cell_type": "code",
   "execution_count": 12,
   "id": "7b3824c1",
   "metadata": {
    "execution": {
     "iopub.execute_input": "2022-05-26T22:11:35.085681Z",
     "iopub.status.busy": "2022-05-26T22:11:35.084857Z",
     "iopub.status.idle": "2022-05-26T22:11:35.942923Z",
     "shell.execute_reply": "2022-05-26T22:11:35.943574Z",
     "shell.execute_reply.started": "2022-04-29T06:45:31.380674Z"
    },
    "papermill": {
     "duration": 0.906472,
     "end_time": "2022-05-26T22:11:35.943765",
     "exception": false,
     "start_time": "2022-05-26T22:11:35.037293",
     "status": "completed"
    },
    "tags": []
   },
   "outputs": [
    {
     "data": {
      "text/plain": [
       "(array([0.5, 1.5, 2.5, 3.5, 4.5, 5.5, 6.5]),\n",
       " [Text(0.5, 0, 'BHO'),\n",
       "  Text(1.5, 0, 'CeeInject'),\n",
       "  Text(2.5, 0, 'FakeRean'),\n",
       "  Text(3.5, 0, 'OnLineGames'),\n",
       "  Text(4.5, 0, 'Renos'),\n",
       "  Text(5.5, 0, 'Vobfus'),\n",
       "  Text(6.5, 0, 'Winwebsec')])"
      ]
     },
     "execution_count": 12,
     "metadata": {},
     "output_type": "execute_result"
    },
    {
     "data": {
      "image/png": "[encoded data removed]",
      "text/plain": [
       "<Figure size 720x720 with 2 Axes>"
      ]
     },
     "metadata": {
      "needs_background": "light"
     },
     "output_type": "display_data"
    }
   ],
   "source": [
    "from sklearn.metrics import confusion_matrix\n",
    "cf=confusion_matrix(Y_test,clf.predict(X_test),normalize=\"true\")\n",
    "import matplotlib.pyplot as plt\n",
    "import seaborn as sns\n",
    "fig,ax=plt.subplots(figsize=(10,10))\n",
    "sns.heatmap(cf, annot=True,cmap=\"Blues\",linewidth=1,linecolor=\"black\",square=True,vmax=1.0)\n",
    "ax.set_xticklabels([\"BHO\",\"CeeInject\",\"FakeRean\",\"OnLineGames\",\"Renos\",\"Vobfus\",\"Winwebsec\"])\n",
    "ax.set_yticklabels([\"BHO\",\"CeeInject\",\"FakeRean\",\"OnLineGames\",\"Renos\",\"Vobfus\",\"Winwebsec\"])\n",
    "plt.xticks(rotation=45)"
   ]
  },
  {
   "cell_type": "code",
   "execution_count": 13,
   "id": "b148dac5",
   "metadata": {
    "execution": {
     "iopub.execute_input": "2022-05-26T22:11:36.035789Z",
     "iopub.status.busy": "2022-05-26T22:11:36.034904Z",
     "iopub.status.idle": "2022-05-26T22:11:36.166813Z",
     "shell.execute_reply": "2022-05-26T22:11:36.166197Z",
     "shell.execute_reply.started": "2022-05-07T22:32:45.830169Z"
    },
    "papermill": {
     "duration": 0.177706,
     "end_time": "2022-05-26T22:11:36.166965",
     "exception": false,
     "start_time": "2022-05-26T22:11:35.989259",
     "status": "completed"
    },
    "tags": []
   },
   "outputs": [
    {
     "data": {
      "text/plain": [
       "0.9466437177280551"
      ]
     },
     "execution_count": 13,
     "metadata": {},
     "output_type": "execute_result"
    }
   ],
   "source": [
    "clf.score(X_test,Y_test)"
   ]
  },
  {
   "cell_type": "code",
   "execution_count": 14,
   "id": "616739a6",
   "metadata": {
    "execution": {
     "iopub.execute_input": "2022-05-26T22:11:36.256351Z",
     "iopub.status.busy": "2022-05-26T22:11:36.255673Z",
     "iopub.status.idle": "2022-05-26T22:11:36.378773Z",
     "shell.execute_reply": "2022-05-26T22:11:36.377931Z",
     "shell.execute_reply.started": "2022-03-23T04:55:45.731974Z"
    },
    "papermill": {
     "duration": 0.168872,
     "end_time": "2022-05-26T22:11:36.378959",
     "exception": false,
     "start_time": "2022-05-26T22:11:36.210087",
     "status": "completed"
    },
    "tags": []
   },
   "outputs": [
    {
     "data": {
      "text/plain": [
       "0.9466437177280551"
      ]
     },
     "execution_count": 14,
     "metadata": {},
     "output_type": "execute_result"
    }
   ],
   "source": [
    "clf.score(X_test,Y_test)"
   ]
  },
  {
   "cell_type": "code",
   "execution_count": 15,
   "id": "af78fc32",
   "metadata": {
    "execution": {
     "iopub.execute_input": "2022-05-26T22:11:36.471988Z",
     "iopub.status.busy": "2022-05-26T22:11:36.471123Z",
     "iopub.status.idle": "2022-05-26T22:11:36.474043Z",
     "shell.execute_reply": "2022-05-26T22:11:36.474624Z",
     "shell.execute_reply.started": "2022-05-11T17:53:30.880317Z"
    },
    "papermill": {
     "duration": 0.05172,
     "end_time": "2022-05-26T22:11:36.474821",
     "exception": false,
     "start_time": "2022-05-26T22:11:36.423101",
     "status": "completed"
    },
    "tags": []
   },
   "outputs": [],
   "source": [
    "from sklearn.svm import SVC"
   ]
  },
  {
   "cell_type": "code",
   "execution_count": 16,
   "id": "6a034c9b",
   "metadata": {
    "execution": {
     "iopub.execute_input": "2022-05-26T22:11:36.569687Z",
     "iopub.status.busy": "2022-05-26T22:11:36.568823Z",
     "iopub.status.idle": "2022-05-26T22:11:36.571155Z",
     "shell.execute_reply": "2022-05-26T22:11:36.570570Z",
     "shell.execute_reply.started": "2022-05-11T17:53:31.336526Z"
    },
    "papermill": {
     "duration": 0.051486,
     "end_time": "2022-05-26T22:11:36.571323",
     "exception": false,
     "start_time": "2022-05-26T22:11:36.519837",
     "status": "completed"
    },
    "tags": []
   },
   "outputs": [],
   "source": [
    "def objective(trial):\n",
    "    svc_c = trial.suggest_loguniform('svc_c', 1e-10, 1e10)\n",
    "    classifier_obj = SVC(C=svc_c,kernel=\"rbf\",gamma=\"scale\")\n",
    "    return cross_val_score(classifier_obj,X_train,Y_train,n_jobs=-1,cv=4).mean()"
   ]
  },
  {
   "cell_type": "code",
   "execution_count": 17,
   "id": "3d22153e",
   "metadata": {
    "execution": {
     "iopub.execute_input": "2022-05-26T22:11:36.664329Z",
     "iopub.status.busy": "2022-05-26T22:11:36.663749Z",
     "iopub.status.idle": "2022-05-26T22:13:17.680454Z",
     "shell.execute_reply": "2022-05-26T22:13:17.681254Z",
     "shell.execute_reply.started": "2022-05-11T17:53:39.860415Z"
    },
    "papermill": {
     "duration": 101.066407,
     "end_time": "2022-05-26T22:13:17.681557",
     "exception": false,
     "start_time": "2022-05-26T22:11:36.615150",
     "status": "completed"
    },
    "tags": []
   },
   "outputs": [
    {
     "name": "stderr",
     "output_type": "stream",
     "text": [
      "\u001b[32m[I 2022-05-26 22:11:36,661]\u001b[0m A new study created in memory with name: no-name-af97f51b-2c88-45a5-bbbe-a6617cb5facc\u001b[0m\n",
      "\u001b[32m[I 2022-05-26 22:11:37,653]\u001b[0m Trial 0 finished with value: 0.976964150437112 and parameters: {'svc_c': 7989826.7992187515}. Best is trial 0 with value: 0.976964150437112.\u001b[0m\n",
      "\u001b[32m[I 2022-05-26 22:11:50,244]\u001b[0m Trial 1 finished with value: 0.1868676255409234 and parameters: {'svc_c': 2.8986718649399047e-09}. Best is trial 0 with value: 0.976964150437112.\u001b[0m\n",
      "\u001b[32m[I 2022-05-26 22:12:02,563]\u001b[0m Trial 2 finished with value: 0.1868676255409234 and parameters: {'svc_c': 0.0005681140387115589}. Best is trial 0 with value: 0.976964150437112.\u001b[0m\n",
      "\u001b[32m[I 2022-05-26 22:12:14,671]\u001b[0m Trial 3 finished with value: 0.1868676255409234 and parameters: {'svc_c': 1.744924493240739e-09}. Best is trial 0 with value: 0.976964150437112.\u001b[0m\n",
      "\u001b[32m[I 2022-05-26 22:12:15,634]\u001b[0m Trial 4 finished with value: 0.976964150437112 and parameters: {'svc_c': 273192277.60965115}. Best is trial 0 with value: 0.976964150437112.\u001b[0m\n",
      "\u001b[32m[I 2022-05-26 22:12:25,438]\u001b[0m Trial 5 finished with value: 0.9085046350036543 and parameters: {'svc_c': 0.004138220116910284}. Best is trial 0 with value: 0.976964150437112.\u001b[0m\n",
      "\u001b[32m[I 2022-05-26 22:12:38,340]\u001b[0m Trial 6 finished with value: 0.1868676255409234 and parameters: {'svc_c': 1.1977729197523583e-09}. Best is trial 0 with value: 0.976964150437112.\u001b[0m\n",
      "\u001b[32m[I 2022-05-26 22:12:51,111]\u001b[0m Trial 7 finished with value: 0.1868676255409234 and parameters: {'svc_c': 4.3658440922165927e-07}. Best is trial 0 with value: 0.976964150437112.\u001b[0m\n",
      "\u001b[32m[I 2022-05-26 22:13:04,176]\u001b[0m Trial 8 finished with value: 0.1868676255409234 and parameters: {'svc_c': 0.00011641199372746507}. Best is trial 0 with value: 0.976964150437112.\u001b[0m\n",
      "\u001b[32m[I 2022-05-26 22:13:17,674]\u001b[0m Trial 9 finished with value: 0.1868676255409234 and parameters: {'svc_c': 2.025886860937343e-09}. Best is trial 0 with value: 0.976964150437112.\u001b[0m\n"
     ]
    }
   ],
   "source": [
    "study=optuna.create_study(direction='maximize')\n",
    "study.optimize(objective,n_trials=10)"
   ]
  },
  {
   "cell_type": "code",
   "execution_count": 18,
   "id": "ab6fa800",
   "metadata": {
    "execution": {
     "iopub.execute_input": "2022-05-26T22:13:17.784778Z",
     "iopub.status.busy": "2022-05-26T22:13:17.784058Z",
     "iopub.status.idle": "2022-05-26T22:13:18.112956Z",
     "shell.execute_reply": "2022-05-26T22:13:18.113670Z",
     "shell.execute_reply.started": "2022-05-11T18:08:09.816434Z"
    },
    "papermill": {
     "duration": 0.382093,
     "end_time": "2022-05-26T22:13:18.113873",
     "exception": false,
     "start_time": "2022-05-26T22:13:17.731780",
     "status": "completed"
    },
    "tags": []
   },
   "outputs": [
    {
     "data": {
      "text/plain": [
       "SVC(C=7989826.7992187515)"
      ]
     },
     "execution_count": 18,
     "metadata": {},
     "output_type": "execute_result"
    }
   ],
   "source": [
    "trial=study.best_trial\n",
    "clf=SVC(C=trial.params[\"svc_c\"],kernel=\"rbf\",gamma=\"scale\")\n",
    "clf.fit(X_train,Y_train)"
   ]
  },
  {
   "cell_type": "code",
   "execution_count": 19,
   "id": "bfbc67b1",
   "metadata": {
    "execution": {
     "iopub.execute_input": "2022-05-26T22:13:18.218002Z",
     "iopub.status.busy": "2022-05-26T22:13:18.217143Z",
     "iopub.status.idle": "2022-05-26T22:13:18.860531Z",
     "shell.execute_reply": "2022-05-26T22:13:18.861061Z",
     "shell.execute_reply.started": "2022-05-11T18:08:11.453049Z"
    },
    "papermill": {
     "duration": 0.697059,
     "end_time": "2022-05-26T22:13:18.861254",
     "exception": false,
     "start_time": "2022-05-26T22:13:18.164195",
     "status": "completed"
    },
    "tags": []
   },
   "outputs": [
    {
     "data": {
      "text/plain": [
       "(array([0.5, 1.5, 2.5, 3.5, 4.5, 5.5, 6.5]),\n",
       " [Text(0, 0.5, 'BHO'),\n",
       "  Text(0, 1.5, 'CeeInject'),\n",
       "  Text(0, 2.5, 'FakeRean'),\n",
       "  Text(0, 3.5, 'OnLineGames'),\n",
       "  Text(0, 4.5, 'Renos'),\n",
       "  Text(0, 5.5, 'Vobfus'),\n",
       "  Text(0, 6.5, 'Winwebsec')])"
      ]
     },
     "execution_count": 19,
     "metadata": {},
     "output_type": "execute_result"
    },
    {
     "data": {
      "image/png": "[encoded data removed]",
      "text/plain": [
       "<Figure size 720x720 with 2 Axes>"
      ]
     },
     "metadata": {
      "needs_background": "light"
     },
     "output_type": "display_data"
    }
   ],
   "source": [
    "from sklearn.metrics import confusion_matrix\n",
    "cf=confusion_matrix(Y_test,clf.predict(X_test),normalize=\"true\")\n",
    "import matplotlib.pyplot as plt\n",
    "import seaborn as sns\n",
    "fig,ax=plt.subplots(figsize=(10,10))\n",
    "sns.heatmap(cf, annot=True,cmap=\"Blues\",linewidth=1,linecolor=\"black\",square=True,vmax=1.0)\n",
    "ax.set_xticklabels([\"BHO\",\"CeeInject\",\"FakeRean\",\"OnLineGames\",\"Renos\",\"Vobfus\",\"Winwebsec\"])\n",
    "ax.set_yticklabels([\"BHO\",\"CeeInject\",\"FakeRean\",\"OnLineGames\",\"Renos\",\"Vobfus\",\"Winwebsec\"])\n",
    "plt.xticks(rotation=45)\n",
    "plt.yticks(rotation=0)"
   ]
  },
  {
   "cell_type": "code",
   "execution_count": 20,
   "id": "9a89331e",
   "metadata": {
    "execution": {
     "iopub.execute_input": "2022-05-26T22:13:18.968127Z",
     "iopub.status.busy": "2022-05-26T22:13:18.967247Z",
     "iopub.status.idle": "2022-05-26T22:13:19.212176Z",
     "shell.execute_reply": "2022-05-26T22:13:19.212823Z",
     "shell.execute_reply.started": "2022-05-11T18:08:18.697151Z"
    },
    "papermill": {
     "duration": 0.300197,
     "end_time": "2022-05-26T22:13:19.213025",
     "exception": false,
     "start_time": "2022-05-26T22:13:18.912828",
     "status": "completed"
    },
    "tags": []
   },
   "outputs": [
    {
     "data": {
      "text/plain": [
       "0.9483648881239243"
      ]
     },
     "execution_count": 20,
     "metadata": {},
     "output_type": "execute_result"
    }
   ],
   "source": [
    "clf.score(X_test,Y_test)"
   ]
  },
  {
   "cell_type": "code",
   "execution_count": 21,
   "id": "964ba18d",
   "metadata": {
    "execution": {
     "iopub.execute_input": "2022-05-26T22:13:19.322393Z",
     "iopub.status.busy": "2022-05-26T22:13:19.321563Z",
     "iopub.status.idle": "2022-05-26T22:13:19.323212Z",
     "shell.execute_reply": "2022-05-26T22:13:19.323777Z",
     "shell.execute_reply.started": "2022-05-07T22:36:09.19162Z"
    },
    "papermill": {
     "duration": 0.058424,
     "end_time": "2022-05-26T22:13:19.323957",
     "exception": false,
     "start_time": "2022-05-26T22:13:19.265533",
     "status": "completed"
    },
    "tags": []
   },
   "outputs": [],
   "source": [
    "from sklearn.neighbors import KNeighborsClassifier"
   ]
  },
  {
   "cell_type": "code",
   "execution_count": 22,
   "id": "4a19cd94",
   "metadata": {
    "execution": {
     "iopub.execute_input": "2022-05-26T22:13:19.435886Z",
     "iopub.status.busy": "2022-05-26T22:13:19.434989Z",
     "iopub.status.idle": "2022-05-26T22:13:19.443269Z",
     "shell.execute_reply": "2022-05-26T22:13:19.443869Z",
     "shell.execute_reply.started": "2022-05-07T22:36:09.759383Z"
    },
    "papermill": {
     "duration": 0.066619,
     "end_time": "2022-05-26T22:13:19.444087",
     "exception": false,
     "start_time": "2022-05-26T22:13:19.377468",
     "status": "completed"
    },
    "tags": []
   },
   "outputs": [
    {
     "data": {
      "text/plain": [
       "KNeighborsClassifier(n_neighbors=25)"
      ]
     },
     "execution_count": 22,
     "metadata": {},
     "output_type": "execute_result"
    }
   ],
   "source": [
    "clf=KNeighborsClassifier(n_neighbors=25)\n",
    "clf.fit(X_train,Y_train)"
   ]
  },
  {
   "cell_type": "code",
   "execution_count": 23,
   "id": "aed3dc47",
   "metadata": {
    "execution": {
     "iopub.execute_input": "2022-05-26T22:13:19.559574Z",
     "iopub.status.busy": "2022-05-26T22:13:19.558759Z",
     "iopub.status.idle": "2022-05-26T22:13:20.215771Z",
     "shell.execute_reply": "2022-05-26T22:13:20.216309Z",
     "shell.execute_reply.started": "2022-04-29T07:29:14.277988Z"
    },
    "papermill": {
     "duration": 0.716417,
     "end_time": "2022-05-26T22:13:20.216532",
     "exception": false,
     "start_time": "2022-05-26T22:13:19.500115",
     "status": "completed"
    },
    "tags": []
   },
   "outputs": [
    {
     "data": {
      "text/plain": [
       "(array([0.5, 1.5, 2.5, 3.5, 4.5, 5.5, 6.5]),\n",
       " [Text(0.5, 0, 'BHO'),\n",
       "  Text(1.5, 0, 'CeeInject'),\n",
       "  Text(2.5, 0, 'FakeRean'),\n",
       "  Text(3.5, 0, 'OnLineGames'),\n",
       "  Text(4.5, 0, 'Renos'),\n",
       "  Text(5.5, 0, 'Vobfus'),\n",
       "  Text(6.5, 0, 'Winwebsec')])"
      ]
     },
     "execution_count": 23,
     "metadata": {},
     "output_type": "execute_result"
    },
    {
     "data": {
      "image/png": "[encoded data removed]",
      "text/plain": [
       "<Figure size 720x720 with 2 Axes>"
      ]
     },
     "metadata": {
      "needs_background": "light"
     },
     "output_type": "display_data"
    }
   ],
   "source": [
    "cf=confusion_matrix(Y_test,clf.predict(X_test),normalize=\"true\")\n",
    "fig,ax=plt.subplots(figsize=(10,10))\n",
    "sns.heatmap(cf, annot=True,cmap=\"Blues\",linewidth=1,linecolor=\"black\",square=True,vmax=1.0)\n",
    "ax.set_xticklabels([\"BHO\",\"CeeInject\",\"FakeRean\",\"OnLineGames\",\"Renos\",\"Vobfus\",\"Winwebsec\"])\n",
    "ax.set_yticklabels([\"BHO\",\"CeeInject\",\"FakeRean\",\"OnLineGames\",\"Renos\",\"Vobfus\",\"Winwebsec\"])\n",
    "plt.xticks(rotation=45)"
   ]
  },
  {
   "cell_type": "code",
   "execution_count": 24,
   "id": "2e49dbad",
   "metadata": {
    "execution": {
     "iopub.execute_input": "2022-05-26T22:13:20.332336Z",
     "iopub.status.busy": "2022-05-26T22:13:20.331195Z",
     "iopub.status.idle": "2022-05-26T22:13:20.572981Z",
     "shell.execute_reply": "2022-05-26T22:13:20.573727Z",
     "shell.execute_reply.started": "2022-05-07T22:36:13.329373Z"
    },
    "papermill": {
     "duration": 0.302425,
     "end_time": "2022-05-26T22:13:20.573933",
     "exception": false,
     "start_time": "2022-05-26T22:13:20.271508",
     "status": "completed"
    },
    "tags": []
   },
   "outputs": [
    {
     "data": {
      "text/plain": [
       "0.9363166953528399"
      ]
     },
     "execution_count": 24,
     "metadata": {},
     "output_type": "execute_result"
    }
   ],
   "source": [
    "clf.score(X_test,Y_test)"
   ]
  },
  {
   "cell_type": "code",
   "execution_count": null,
   "id": "8211ff65",
   "metadata": {
    "papermill": {
     "duration": 0.055726,
     "end_time": "2022-05-26T22:13:20.685878",
     "exception": false,
     "start_time": "2022-05-26T22:13:20.630152",
     "status": "completed"
    },
    "tags": []
   },
   "outputs": [],
   "source": []
  }
 ],
 "metadata": {
  "kernelspec": {
   "display_name": "Python 3",
   "language": "python",
   "name": "python3"
  },
  "language_info": {
   "codemirror_mode": {
    "name": "ipython",
    "version": 3
   },
   "file_extension": ".py",
   "mimetype": "text/x-python",
   "name": "python",
   "nbconvert_exporter": "python",
   "pygments_lexer": "ipython3",
   "version": "3.7.12"
  },
  "papermill": {
   "default_parameters": {},
   "duration": 404.608487,
   "end_time": "2022-05-26T22:13:21.757157",
   "environment_variables": {},
   "exception": null,
   "input_path": "__notebook__.ipynb",
   "output_path": "__notebook__.ipynb",
   "parameters": {},
   "start_time": "2022-05-26T22:06:37.148670",
   "version": "2.3.3"
  }
 },
 "nbformat": 4,
 "nbformat_minor": 5
}
